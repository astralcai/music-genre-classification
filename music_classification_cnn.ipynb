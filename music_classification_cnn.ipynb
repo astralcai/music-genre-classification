{
  "nbformat": 4,
  "nbformat_minor": 0,
  "metadata": {
    "colab": {
      "name": "music_classification.ipynb",
      "provenance": [],
      "collapsed_sections": [],
      "machine_shape": "hm",
      "include_colab_link": true
    },
    "kernelspec": {
      "name": "python3",
      "display_name": "Python 3"
    }
  },
  "cells": [
    {
      "cell_type": "markdown",
      "metadata": {
        "id": "view-in-github",
        "colab_type": "text"
      },
      "source": [
        "<a href=\"https://colab.research.google.com/github/astralcai/music-genre-classification/blob/master/music_classification_cnn.ipynb\" target=\"_parent\"><img src=\"https://colab.research.google.com/assets/colab-badge.svg\" alt=\"Open In Colab\"/></a>"
      ]
    },
    {
      "cell_type": "code",
      "metadata": {
        "id": "9PB1DHklOmsh",
        "colab_type": "code",
        "colab": {}
      },
      "source": [
        ""
      ],
      "execution_count": 0,
      "outputs": []
    },
    {
      "cell_type": "code",
      "metadata": {
        "id": "A_QaUhwEOpN0",
        "colab_type": "code",
        "outputId": "6bc8dd7a-5824-4770-93f3-428fc1c91d8e",
        "colab": {
          "base_uri": "https://localhost:8080/",
          "height": 125
        }
      },
      "source": [
        "from google.colab import drive\n",
        "drive.mount('/content/drive')"
      ],
      "execution_count": 0,
      "outputs": [
        {
          "output_type": "stream",
          "text": [
            "Go to this URL in a browser: https://accounts.google.com/o/oauth2/auth?client_id=947318989803-6bn6qk8qdgf4n4g3pfee6491hc0brc4i.apps.googleusercontent.com&redirect_uri=urn%3aietf%3awg%3aoauth%3a2.0%3aoob&response_type=code&scope=email%20https%3a%2f%2fwww.googleapis.com%2fauth%2fdocs.test%20https%3a%2f%2fwww.googleapis.com%2fauth%2fdrive%20https%3a%2f%2fwww.googleapis.com%2fauth%2fdrive.photos.readonly%20https%3a%2f%2fwww.googleapis.com%2fauth%2fpeopleapi.readonly\n",
            "\n",
            "Enter your authorization code:\n",
            "··········\n",
            "Mounted at /content/drive\n"
          ],
          "name": "stdout"
        }
      ]
    },
    {
      "cell_type": "code",
      "metadata": {
        "id": "s8mhpGO9w4XZ",
        "colab_type": "code",
        "outputId": "7e29d155-6c2c-41db-df60-eb4c36323bde",
        "colab": {
          "base_uri": "https://localhost:8080/",
          "height": 461
        }
      },
      "source": [
        "from tensorflow import keras\n",
        "from tensorflow.keras import layers\n",
        "from tensorflow.keras import Sequential\n",
        "from tensorflow.keras.losses import categorical_crossentropy\n",
        "from tensorflow.keras.optimizers import Adam\n",
        "from sklearn.model_selection import train_test_split\n",
        "import sys\n",
        "import time\n",
        "import pickle\n",
        "import os\n",
        "import matplotlib.pyplot as plt\n",
        "import numpy as np\n",
        "from sklearn.metrics import classification_report \n",
        "from sklearn.metrics import precision_score , recall_score\n",
        "from sklearn.metrics import confusion_matrix \n",
        "from sklearn.metrics import accuracy_score\n",
        "import matplotlib.pyplot as plt \n",
        "import tensorflow as tf\n",
        "\n",
        "# Preprocess the dataset and split the dataset if necessary\n",
        "def preprocess(gtzan_spectrograms, gtzan_labels):\n",
        "    # Training dataset \n",
        "    trainingData = gtzan_spectrograms\n",
        "    # Training dataset label\n",
        "    label = gtzan_labels\n",
        "    one_hot_label = []\n",
        "    # Change the dataset label to one-hot vector\n",
        "    for k in label:\n",
        "        # The first label stands for music genre - \"blues\"\n",
        "        if k == 0:\n",
        "            one_hot_label.append([1, 0, 0, 0, 0])\n",
        "        # The second label stands for music genre - \"hiphop\"\n",
        "        if k == 1:\n",
        "            one_hot_label.append([0, 1, 0, 0, 0])\n",
        "        # The third label stands for music genre - \"jazz\"\n",
        "        if k == 2:\n",
        "            one_hot_label.append([0, 0, 1, 0, 0])\n",
        "        # The fourth label stands for music genre - \"pop\"\n",
        "        if k == 3:\n",
        "            one_hot_label.append([0, 0, 0, 1, 0])\n",
        "        # The fifth label stands for music genre - \"rock\"\n",
        "        if k == 4:\n",
        "            one_hot_label.append([0, 0, 0, 0, 1])\n",
        "    # Reserve 80% for training dataset, 10% for validation dataset, 10% for testing dataset\n",
        "    x_train, x_validation, y_train, y_validation = train_test_split(trainingData, one_hot_label,train_size=3669, test_size=408,shuffle=True)\n",
        "    x_test, x_validation, y_test, y_validation = train_test_split(x_validation,y_validation, train_size=204, test_size=204, shuffle=True)\n",
        "    test_label = []\n",
        "    for i in list(y_test):\n",
        "        # The first label stands for music genre - \"blues\"\n",
        "        if i == [1, 0, 0, 0, 0]:\n",
        "            test_label.append(0)\n",
        "        # The second label stands for music genre - \"hiphop\"\n",
        "        if i == [0, 1, 0, 0, 0]:\n",
        "            test_label.append(1)\n",
        "        # The third label stands for music genre - \"jazz\"\n",
        "        if i == [0, 0, 1, 0, 0]:\n",
        "            test_label.append(2)\n",
        "        # The fourth label stands for music genre - \"pop\"\n",
        "        if i == [0, 0, 0, 1, 0]:\n",
        "            test_label.append(3)\n",
        "        # The fifth label stands for music genre - \"rock\"\n",
        "        if i == [0, 0, 0, 0, 1]:\n",
        "            test_label.append(4)\n",
        "\n",
        "    x_train = np.array(x_train)\n",
        "    x_validation = np.array(x_validation)\n",
        "    x_test = np.array(x_test)\n",
        "    y_train = np.array(y_train)\n",
        "    y_validation = np.array(y_validation)\n",
        "    y_test = np.array(y_test)\n",
        "    return x_train, y_train, x_validation, y_validation, x_test, y_test,test_label\n",
        "\n",
        "# Use the following to load spectrograms:\n",
        "# modify name_suffix to choose dataset\n",
        "name_suffix = '_3_1024'\n",
        "gtzan_spectrograms = pickle.load(open('drive/My Drive/mgc_dataset/gtzan_spectrograms' + name_suffix + '.p', 'rb'))\n",
        "gtzan_labels = pickle.load(open('drive/My Drive/mgc_dataset/gtzan_labels'+ name_suffix + '.p', 'rb'))\n",
        "\n",
        "x_train, y_train, x_validation, y_validation, x_test, y_test,test_label = preprocess(gtzan_spectrograms, gtzan_labels)\n",
        "x_train = np.expand_dims(x_train, -1)\n",
        "x_validation = np.expand_dims(x_validation, -1)\n",
        "x_test = np.expand_dims(x_test, -1)\n",
        "input_shape = (513, 128, 1)\n",
        "\n",
        "# Five possible output music genre types\n",
        "num_category = 5\n",
        "model = Sequential()\n",
        "# First convolutional layer using relu as the activation function\n",
        "model.add(layers.Conv2D(32, kernel_size=(3, 3),\n",
        "                 activation='relu',\n",
        "                 input_shape=input_shape))\n",
        "# Then downsampling the feature maps\n",
        "model.add(layers.MaxPooling2D(pool_size=(2, 2)))\n",
        "# Second convolutional layer using relu as the activation function\n",
        "model.add(layers.Conv2D(64, (3, 3), activation='relu'))\n",
        "# Then downsampling the feature maps\n",
        "model.add(layers.MaxPooling2D(pool_size=(2, 2)))\n",
        "model.add(layers.Conv2D(64, (3, 3), activation='relu'))\n",
        "# Flatten the output from convolutional layer to one dimensional array\n",
        "model.add(layers.Flatten())\n",
        "# Pass the one dimensional array to the denselu fully connected layer\n",
        "model.add(layers.Dense(128, kernel_regularizer=keras.regularizers.l2(0.001), activation='relu'))\n",
        "model.add(layers.Dropout(0.3))\n",
        "model.add(layers.Dense(num_category, activation='softmax'))\n",
        "# Use the Adam as the optimizer and use categorical_crossentropy \n",
        "model.compile(loss=categorical_crossentropy,\n",
        "              optimizer=Adam(),\n",
        "              metrics=['accuracy',tf.keras.metrics.AUC()])\n",
        "# Stop training the model if the accuracy over the validation set does not make any improvement for 5 consecutive\n",
        "callback = tf.keras.callbacks.EarlyStopping(monitor='val_loss', patience=5, restore_best_weights=True)\n",
        "# Train the model\n",
        "history =model.fit(x_train, y_train, batch_size=16, epochs=20, validation_data=(x_validation, y_validation), callbacks=[callback])"
      ],
      "execution_count": 10,
      "outputs": [
        {
          "output_type": "stream",
          "text": [
            "Train on 3669 samples, validate on 204 samples\n",
            "Epoch 1/20\n",
            "3669/3669 [==============================] - 224s 61ms/sample - loss: 1.3466 - acc: 0.5454 - auc_4: 0.8310 - val_loss: 1.2230 - val_acc: 0.6176 - val_auc_4: 0.8784\n",
            "Epoch 2/20\n",
            "3669/3669 [==============================] - 222s 60ms/sample - loss: 1.0540 - acc: 0.7138 - auc_4: 0.9247 - val_loss: 1.1259 - val_acc: 0.7010 - val_auc_4: 0.9158\n",
            "Epoch 3/20\n",
            "3669/3669 [==============================] - 222s 61ms/sample - loss: 0.9430 - acc: 0.7787 - auc_4: 0.9518 - val_loss: 1.2111 - val_acc: 0.7304 - val_auc_4: 0.9163\n",
            "Epoch 4/20\n",
            "3669/3669 [==============================] - 223s 61ms/sample - loss: 0.8840 - acc: 0.8269 - auc_4: 0.9688 - val_loss: 1.5876 - val_acc: 0.6618 - val_auc_4: 0.8828\n",
            "Epoch 5/20\n",
            "3669/3669 [==============================] - 223s 61ms/sample - loss: 0.9003 - acc: 0.8425 - auc_4: 0.9735 - val_loss: 1.4328 - val_acc: 0.7108 - val_auc_4: 0.9033\n",
            "Epoch 6/20\n",
            "3669/3669 [==============================] - 221s 60ms/sample - loss: 0.7923 - acc: 0.8883 - auc_4: 0.9820 - val_loss: 1.5205 - val_acc: 0.7059 - val_auc_4: 0.8966\n",
            "Epoch 7/20\n",
            "3669/3669 [==============================] - 221s 60ms/sample - loss: 0.7613 - acc: 0.8975 - auc_4: 0.9870 - val_loss: 1.8038 - val_acc: 0.6912 - val_auc_4: 0.8870\n",
            "Epoch 8/20\n",
            "3669/3669 [==============================] - 222s 61ms/sample - loss: 0.8552 - acc: 0.8891 - auc_4: 0.9834 - val_loss: 1.8428 - val_acc: 0.6716 - val_auc_4: 0.8906\n",
            "Epoch 9/20\n",
            "3669/3669 [==============================] - 222s 61ms/sample - loss: 0.7748 - acc: 0.9120 - auc_4: 0.9892 - val_loss: 1.5810 - val_acc: 0.7010 - val_auc_4: 0.9087\n",
            "Epoch 10/20\n",
            "3669/3669 [==============================] - 221s 60ms/sample - loss: 0.6792 - acc: 0.9286 - auc_4: 0.9930 - val_loss: 1.6543 - val_acc: 0.7059 - val_auc_4: 0.9014\n",
            "Epoch 11/20\n",
            "3669/3669 [==============================] - 221s 60ms/sample - loss: 0.7620 - acc: 0.9141 - auc_4: 0.9895 - val_loss: 1.9750 - val_acc: 0.6716 - val_auc_4: 0.8739\n",
            "Epoch 12/20\n",
            "3669/3669 [==============================] - 221s 60ms/sample - loss: 0.7923 - acc: 0.9226 - auc_4: 0.9895 - val_loss: 1.8781 - val_acc: 0.6716 - val_auc_4: 0.8813\n"
          ],
          "name": "stdout"
        }
      ]
    },
    {
      "cell_type": "code",
      "metadata": {
        "id": "cUp7rpWTf73p",
        "colab_type": "code",
        "outputId": "7da52470-19f4-4756-abe1-5062ea4ef3d2",
        "colab": {
          "base_uri": "https://localhost:8080/",
          "height": 727
        }
      },
      "source": [
        "# Test the accuracy over the testing dataset\n",
        "score, acc, auc= model.evaluate(x_test, y_test)\n",
        "print('Test score:', score)\n",
        "print('Test accuracy:', acc)\n",
        "print('Test AUC', auc)\n",
        "# Plot the graph of the training data accuracy and validation accuracy\n",
        "plt.plot(history.history['acc'], label='accuracy')\n",
        "plt.plot(history.history['val_acc'], label = 'val_accuracy')\n",
        "plt.xlabel('Epoch')\n",
        "plt.ylabel('Accuracy')\n",
        "plt.ylim([0.5, 1])\n",
        "plt.legend(loc='lower right')\n",
        "\n",
        "# Evaluate the data set.\n",
        "predictTesting = model.predict_classes(np.asarray(x_test))\n",
        "# Print the testing dataset confusion matrix and testing dataset report\n",
        "print(\"Testing dataset confusion matrix: \\n\", confusion_matrix(test_label, predictTesting))\n",
        "print('Testing dataset Accuracy Score: \\n', accuracy_score(test_label, predictTesting))\n",
        "print('Testing dataset Report : \\n', classification_report(test_label, predictTesting))"
      ],
      "execution_count": 11,
      "outputs": [
        {
          "output_type": "stream",
          "text": [
            "204/204 [==============================] - 3s 15ms/sample - loss: 0.9017 - acc: 0.7745 - auc_4: 0.9545\n",
            "Test score: 0.9016790051086276\n",
            "Test accuracy: 0.7745098\n",
            "Test AUC 0.95452774\n",
            "Testing dataset confusion matrix: \n",
            " [[20  1  5  1  5]\n",
            " [ 0 40  1  6  2]\n",
            " [ 2  2 36  0  1]\n",
            " [ 1  5  4 31  1]\n",
            " [ 3  1  3  2 31]]\n",
            "Testing dataset Accuracy Score: \n",
            " 0.7745098039215687\n",
            "Testing dataset Report : \n",
            "               precision    recall  f1-score   support\n",
            "\n",
            "           0       0.77      0.62      0.69        32\n",
            "           1       0.82      0.82      0.82        49\n",
            "           2       0.73      0.88      0.80        41\n",
            "           3       0.78      0.74      0.76        42\n",
            "           4       0.78      0.78      0.78        40\n",
            "\n",
            "    accuracy                           0.77       204\n",
            "   macro avg       0.77      0.77      0.77       204\n",
            "weighted avg       0.78      0.77      0.77       204\n",
            "\n"
          ],
          "name": "stdout"
        },
        {
          "output_type": "display_data",
          "data": {
            "image/png": "[encoded data removed]",
            "text/plain": [
              "<Figure size 432x288 with 1 Axes>"
            ]
          },
          "metadata": {
            "tags": []
          }
        }
      ]
    }
  ]
}