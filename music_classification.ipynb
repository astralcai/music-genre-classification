{
  "nbformat": 4,
  "nbformat_minor": 0,
  "metadata": {
    "colab": {
      "name": "music_classification.ipynb",
      "provenance": [],
      "collapsed_sections": [],
      "machine_shape": "hm",
      "include_colab_link": true
    },
    "kernelspec": {
      "name": "python3",
      "display_name": "Python 3"
    }
  },
  "cells": [
    {
      "cell_type": "markdown",
      "metadata": {
        "id": "view-in-github",
        "colab_type": "text"
      },
      "source": [
        "<a href=\"https://colab.research.google.com/github/astralcai/music-genre-classification/blob/master/music_classification.ipynb\" target=\"_parent\"><img src=\"https://colab.research.google.com/assets/colab-badge.svg\" alt=\"Open In Colab\"/></a>"
      ]
    },
    {
      "cell_type": "code",
      "metadata": {
        "id": "9PB1DHklOmsh",
        "colab_type": "code",
        "colab": {}
      },
      "source": [
        ""
      ],
      "execution_count": 0,
      "outputs": []
    },
    {
      "cell_type": "code",
      "metadata": {
        "id": "A_QaUhwEOpN0",
        "colab_type": "code",
        "outputId": "22fde40b-89b6-4bd7-f6a8-efa00ecd0737",
        "colab": {
          "base_uri": "https://localhost:8080/",
          "height": 125
        }
      },
      "source": [
        "from google.colab import drive\n",
        "drive.mount('/content/drive')"
      ],
      "execution_count": 2,
      "outputs": [
        {
          "output_type": "stream",
          "text": [
            "Go to this URL in a browser: https://accounts.google.com/o/oauth2/auth?client_id=947318989803-6bn6qk8qdgf4n4g3pfee6491hc0brc4i.apps.googleusercontent.com&redirect_uri=urn%3aietf%3awg%3aoauth%3a2.0%3aoob&response_type=code&scope=email%20https%3a%2f%2fwww.googleapis.com%2fauth%2fdocs.test%20https%3a%2f%2fwww.googleapis.com%2fauth%2fdrive%20https%3a%2f%2fwww.googleapis.com%2fauth%2fdrive.photos.readonly%20https%3a%2f%2fwww.googleapis.com%2fauth%2fpeopleapi.readonly\n",
            "\n",
            "Enter your authorization code:\n",
            "··········\n",
            "Mounted at /content/drive\n"
          ],
          "name": "stdout"
        }
      ]
    },
    {
      "cell_type": "code",
      "metadata": {
        "id": "s8mhpGO9w4XZ",
        "colab_type": "code",
        "outputId": "58b2d11c-3fcf-4ff5-e363-c52e37019a37",
        "colab": {
          "base_uri": "https://localhost:8080/",
          "height": 356
        }
      },
      "source": [
        "from tensorflow import keras\n",
        "from tensorflow.keras import layers\n",
        "from tensorflow.keras import Sequential\n",
        "from tensorflow.keras.losses import categorical_crossentropy\n",
        "from tensorflow.keras.optimizers import Adam\n",
        "from sklearn.model_selection import train_test_split\n",
        "import sys\n",
        "import time\n",
        "import pickle\n",
        "import os\n",
        "import matplotlib.pyplot as plt\n",
        "import numpy as np\n",
        "from sklearn.metrics import classification_report \n",
        "from sklearn.metrics import precision_score , recall_score\n",
        "from sklearn.metrics import confusion_matrix \n",
        "from sklearn.metrics import accuracy_score\n",
        "import matplotlib.pyplot as plt \n",
        "import tensorflow as tf\n",
        "\n",
        "# Preprocess the dataset and split the dataset if necessary\n",
        "def preprocess(gtzan_spectrograms, gtzan_labels):\n",
        "    # Training dataset \n",
        "    trainingData = gtzan_spectrograms\n",
        "    # Training dataset label\n",
        "    label = gtzan_labels\n",
        "    one_hot_label = []\n",
        "    # Change the dataset label to one-hot vector\n",
        "    for k in label:\n",
        "        # The first label stands for music genre - \"blues\"\n",
        "        if k == 0:\n",
        "            one_hot_label.append([1, 0, 0, 0, 0])\n",
        "        # The second label stands for music genre - \"hiphop\"\n",
        "        if k == 1:\n",
        "            one_hot_label.append([0, 1, 0, 0, 0])\n",
        "        # The third label stands for music genre - \"jazz\"\n",
        "        if k == 2:\n",
        "            one_hot_label.append([0, 0, 1, 0, 0])\n",
        "        # The fourth label stands for music genre - \"pop\"\n",
        "        if k == 3:\n",
        "            one_hot_label.append([0, 0, 0, 1, 0])\n",
        "        # The fifth label stands for music genre - \"rock\"\n",
        "        if k == 4:\n",
        "            one_hot_label.append([0, 0, 0, 0, 1])\n",
        "    # Reserve 80% for training dataset, 10% for validation dataset, 10% for testing dataset\n",
        "    x_train, x_validation, y_train, y_validation = train_test_split(trainingData, one_hot_label,train_size=3669, test_size=408,shuffle=True)\n",
        "    x_test, x_validation, y_test, y_validation = train_test_split(x_validation,y_validation, train_size=204, test_size=204, shuffle=True)\n",
        "    test_label = []\n",
        "    for i in list(y_test):\n",
        "        # The first label stands for music genre - \"blues\"\n",
        "        if i == [1, 0, 0, 0, 0]:\n",
        "            test_label.append(0)\n",
        "        # The second label stands for music genre - \"hiphop\"\n",
        "        if i == [0, 1, 0, 0, 0]:\n",
        "            test_label.append(1)\n",
        "        # The third label stands for music genre - \"jazz\"\n",
        "        if i == [0, 0, 1, 0, 0]:\n",
        "            test_label.append(2)\n",
        "        # The fourth label stands for music genre - \"pop\"\n",
        "        if i == [0, 0, 0, 1, 0]:\n",
        "            test_label.append(3)\n",
        "        # The fifth label stands for music genre - \"rock\"\n",
        "        if i == [0, 0, 0, 0, 1]:\n",
        "            test_label.append(4)\n",
        "\n",
        "    x_train = np.array(x_train)\n",
        "    x_validation = np.array(x_validation)\n",
        "    x_test = np.array(x_test)\n",
        "    y_train = np.array(y_train)\n",
        "    y_validation = np.array(y_validation)\n",
        "    y_test = np.array(y_test)\n",
        "    return x_train, y_train, x_validation, y_validation, x_test, y_test,test_label\n",
        "\n",
        "# Use the following to load spectrograms:\n",
        "# modify name_suffix to choose dataset\n",
        "name_suffix = '_3_1024'\n",
        "gtzan_spectrograms = pickle.load(open('drive/My Drive/mgc_dataset/gtzan_spectrograms' + name_suffix + '.p', 'rb'))\n",
        "gtzan_labels = pickle.load(open('drive/My Drive/mgc_dataset/gtzan_labels'+ name_suffix + '.p', 'rb'))\n",
        "\n",
        "x_train, y_train, x_validation, y_validation, x_test, y_test,test_label = preprocess(gtzan_spectrograms, gtzan_labels)\n",
        "x_train = np.expand_dims(x_train, -1)\n",
        "x_validation = np.expand_dims(x_validation, -1)\n",
        "x_test = np.expand_dims(x_test, -1)\n",
        "input_shape = (513, 128, 1)\n",
        "\n",
        "# Five possible output music genre types\n",
        "num_category = 5\n",
        "model = Sequential()\n",
        "# First convolutional layer using relu as the activation function\n",
        "model.add(layers.Conv2D(32, kernel_size=(3, 3),\n",
        "                 activation='relu',\n",
        "                 input_shape=input_shape))\n",
        "# Then downsampling the feature maps\n",
        "model.add(layers.MaxPooling2D(pool_size=(2, 2)))\n",
        "# Second convolutional layer using relu as the activation function\n",
        "model.add(layers.Conv2D(64, (3, 3), activation='relu'))\n",
        "# Then downsampling the feature maps\n",
        "model.add(layers.MaxPooling2D(pool_size=(2, 2)))\n",
        "# Flatten the output from convolutional layer to one dimensional array\n",
        "model.add(layers.Flatten())\n",
        "# Pass the one dimensional array to the denselu fully connected layer\n",
        "model.add(layers.Dense(128, kernel_regularizer=keras.regularizers.l2(0.001), activation='relu'))\n",
        "model.add(layers.Dropout(0.3))\n",
        "model.add(layers.Dense(num_category, activation='softmax'))\n",
        "# Use the Adam as the optimizer and use categorical_crossentropy \n",
        "model.compile(loss=categorical_crossentropy,\n",
        "              optimizer=Adam(),\n",
        "              metrics=['accuracy'])\n",
        "# Stop training the model if the accuracy over the validation set does not make any improvement for 5 consecutive\n",
        "callback = tf.keras.callbacks.EarlyStopping(monitor='val_loss', patience=5, restore_best_weights=True)\n",
        "# Train the model\n",
        "history =model.fit(x_train, y_train, batch_size=16, epochs=20, validation_data=(x_validation, y_validation), callbacks=[callback])"
      ],
      "execution_count": 3,
      "outputs": [
        {
          "output_type": "stream",
          "text": [
            "WARNING:tensorflow:From /usr/local/lib/python3.6/dist-packages/tensorflow_core/python/ops/resource_variable_ops.py:1630: calling BaseResourceVariable.__init__ (from tensorflow.python.ops.resource_variable_ops) with constraint is deprecated and will be removed in a future version.\n",
            "Instructions for updating:\n",
            "If using Keras pass *_constraint arguments to layers.\n",
            "Train on 3669 samples, validate on 204 samples\n",
            "Epoch 1/20\n",
            "3669/3669 [==============================] - 209s 57ms/sample - loss: 1.2758 - acc: 0.5053 - val_loss: 1.0456 - val_acc: 0.6029\n",
            "Epoch 2/20\n",
            "3669/3669 [==============================] - 209s 57ms/sample - loss: 0.6386 - acc: 0.7757 - val_loss: 0.6566 - val_acc: 0.7892\n",
            "Epoch 3/20\n",
            "3669/3669 [==============================] - 208s 57ms/sample - loss: 0.3496 - acc: 0.8839 - val_loss: 0.7681 - val_acc: 0.7745\n",
            "Epoch 4/20\n",
            "3669/3669 [==============================] - 205s 56ms/sample - loss: 0.1993 - acc: 0.9308 - val_loss: 0.9159 - val_acc: 0.7794\n",
            "Epoch 5/20\n",
            "3669/3669 [==============================] - 204s 56ms/sample - loss: 0.1184 - acc: 0.9646 - val_loss: 1.2749 - val_acc: 0.7549\n",
            "Epoch 6/20\n",
            "3669/3669 [==============================] - 201s 55ms/sample - loss: 0.1380 - acc: 0.9635 - val_loss: 1.1397 - val_acc: 0.7696\n",
            "Epoch 7/20\n",
            "3669/3669 [==============================] - 200s 55ms/sample - loss: 0.1034 - acc: 0.9747 - val_loss: 1.3848 - val_acc: 0.7451\n"
          ],
          "name": "stdout"
        }
      ]
    },
    {
      "cell_type": "code",
      "metadata": {
        "id": "cUp7rpWTf73p",
        "colab_type": "code",
        "colab": {
          "base_uri": "https://localhost:8080/",
          "height": 710
        },
        "outputId": "7188b00a-9e31-46b1-e1d7-0cc6d8a60f08"
      },
      "source": [
        "# Test the accuracy over the testing dataset\n",
        "score, acc = model.evaluate(x_test, y_test)\n",
        "print('Test score:', score)\n",
        "print('Test accuracy:', acc)\n",
        "# Plot the graph of the training data accuracy and validation accuracy\n",
        "plt.plot(history.history['acc'], label='accuracy')\n",
        "plt.plot(history.history['val_acc'], label = 'val_accuracy')\n",
        "plt.xlabel('Epoch')\n",
        "plt.ylabel('Accuracy')\n",
        "plt.ylim([0.5, 1])\n",
        "plt.legend(loc='lower right')\n",
        "\n",
        "# Evaluate the data set.\n",
        "predictTesting = model.predict_classes(np.asarray(x_test))\n",
        "# Print the testing dataset confusion matrix and testing dataset report\n",
        "print(\"Testing dataset confusion matrix: \\n\", confusion_matrix(test_label, predictTesting))\n",
        "print('Testing dataset Accuracy Score: \\n', accuracy_score(test_label, predictTesting))\n",
        "print('Testing dataset Report : \\n', classification_report(test_label, predictTesting))"
      ],
      "execution_count": 4,
      "outputs": [
        {
          "output_type": "stream",
          "text": [
            "204/204 [==============================] - 2s 12ms/sample - loss: 0.8416 - acc: 0.7255\n",
            "Test score: 0.8416021384444892\n",
            "Test accuracy: 0.7254902\n",
            "Testing dataset confusion matrix: \n",
            " [[28  2  4  1  6]\n",
            " [ 2 37  0  3  1]\n",
            " [ 3  1 39  0  2]\n",
            " [ 2  6  2 23  4]\n",
            " [ 8  3  4  2 21]]\n",
            "Testing dataset Accuracy Score: \n",
            " 0.7254901960784313\n",
            "Testing dataset Report : \n",
            "               precision    recall  f1-score   support\n",
            "\n",
            "           0       0.65      0.68      0.67        41\n",
            "           1       0.76      0.86      0.80        43\n",
            "           2       0.80      0.87      0.83        45\n",
            "           3       0.79      0.62      0.70        37\n",
            "           4       0.62      0.55      0.58        38\n",
            "\n",
            "    accuracy                           0.73       204\n",
            "   macro avg       0.72      0.72      0.72       204\n",
            "weighted avg       0.72      0.73      0.72       204\n",
            "\n"
          ],
          "name": "stdout"
        },
        {
          "output_type": "display_data",
          "data": {
            "image/png": "[encoded data removed]",
            "text/plain": [
              "<Figure size 432x288 with 1 Axes>"
            ]
          },
          "metadata": {
            "tags": []
          }
        }
      ]
    }
  ]
}